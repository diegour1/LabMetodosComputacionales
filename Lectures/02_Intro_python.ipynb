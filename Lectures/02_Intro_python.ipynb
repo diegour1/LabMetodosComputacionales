{
  "nbformat": 4,
  "nbformat_minor": 0,
  "metadata": {
    "colab": {
      "name": "02_Intro_python.ipynb",
      "provenance": [],
      "collapsed_sections": []
    },
    "kernelspec": {
      "name": "python3",
      "display_name": "Python 3"
    }
  },
  "cells": [
    {
      "cell_type": "markdown",
      "metadata": {
        "id": "nHeg-W_EmYnP"
      },
      "source": [
        "comando para crear .tar.bz2:\n",
        "\n",
        "`tar jcvf <output name> <input name>`\n",
        "\n",
        "lineas para saber el tamaño de un archivo con python:"
      ]
    },
    {
      "cell_type": "code",
      "metadata": {
        "id": "CEOoFw5Xylt-",
        "colab": {
          "base_uri": "https://localhost:8080/",
          "height": 34
        },
        "outputId": "6aae5f97-64d5-413a-96eb-e1956890e858"
      },
      "source": [
        "import os\n",
        "sizefile = os.path.getsize('grad.png')\n",
        "print(sizefile)"
      ],
      "execution_count": null,
      "outputs": [
        {
          "output_type": "stream",
          "text": [
            "99723\n"
          ],
          "name": "stdout"
        }
      ]
    },
    {
      "cell_type": "markdown",
      "metadata": {
        "id": "6WTF44r6yqD2"
      },
      "source": [
        "Graficar datos:"
      ]
    },
    {
      "cell_type": "code",
      "metadata": {
        "id": "8OUl7a2XmOFd",
        "colab": {
          "base_uri": "https://localhost:8080/",
          "height": 265
        },
        "outputId": "944c02db-ae88-489e-cfb1-85a84405bf75"
      },
      "source": [
        "# cargar librerias\n",
        "import matplotlib.pyplot as plt\n",
        "plt.style.use('dark_background')\n",
        "\n",
        "# cargar o generar datos a graficar\n",
        "x = [3.1, 4.6, 5.8, 6.8, 7.8]\n",
        "y = [2.5, 3.8, 4.6, 6.2, 7.0]\n",
        "\n",
        "# generar gráfica\n",
        "plt.plot(x, y, 'ro')\n",
        "plt.show()"
      ],
      "execution_count": null,
      "outputs": [
        {
          "output_type": "display_data",
          "data": {
            "image/png": "[encoded data removed]",
            "text/plain": [
              "<Figure size 432x288 with 1 Axes>"
            ]
          },
          "metadata": {
            "tags": []
          }
        }
      ]
    },
    {
      "cell_type": "markdown",
      "metadata": {
        "id": "PJ1ZA4zer9HU"
      },
      "source": [
        "Graficar una función"
      ]
    },
    {
      "cell_type": "code",
      "metadata": {
        "id": "ZKV9USgtq2bK",
        "colab": {
          "base_uri": "https://localhost:8080/",
          "height": 265
        },
        "outputId": "f84fc6f4-6af5-4fb2-e507-bcf2938e8960"
      },
      "source": [
        "# cargar librerias faltantes\n",
        "import numpy as np\n",
        "\n",
        "x_ini = -3.1\n",
        "x_fin = 5.7\n",
        "\n",
        "\n",
        "# definición de la funcion\n",
        "def polinomio(x):\n",
        "  return (x - 2)*(x + 2)*(x - 4)\n",
        "\n",
        "# deficion para generar gráfica\n",
        "def dibujar_polinomio(x_i, x_f):\n",
        "  x1 = np.linspace(x_i, x_f)\n",
        "  plt.plot(x1, polinomio(x1), 'b')\n",
        "  plt.show()\n",
        "\n",
        "# generar gráfica\n",
        "dibujar_polinomio(x_ini, x_fin)\n"
      ],
      "execution_count": null,
      "outputs": [
        {
          "output_type": "display_data",
          "data": {
            "image/png": "[encoded data removed]",
            "text/plain": [
              "<Figure size 432x288 with 1 Axes>"
            ]
          },
          "metadata": {
            "tags": []
          }
        }
      ]
    },
    {
      "cell_type": "markdown",
      "metadata": {
        "id": "p-FFLrnMwL0d"
      },
      "source": [
        "Graficar gausiana \n",
        "$$f(x) = a e^{- { \\frac{(x-b)^2 }{ 2 c^2} } }$$"
      ]
    },
    {
      "cell_type": "code",
      "metadata": {
        "id": "zuZtN4RKwGks",
        "colab": {
          "base_uri": "https://localhost:8080/",
          "height": 265
        },
        "outputId": "de726e7b-05bc-4c62-c8e0-dc3c94f76daf"
      },
      "source": [
        "x_ini = -3.1\n",
        "x_fin = 5.7\n",
        "a = 2\n",
        "b = 1\n",
        "c = 1\n",
        "\n",
        "\n",
        "# definición de la funcion\n",
        "def gaussiana(x, a, b, c):\n",
        "  return a * np.exp(-((x - b)**2) / 2 * c**2)\n",
        "\n",
        "# deficion para generar gráfica\n",
        "def dibujar_gaussiana(x_i, x_f, a, b, c):\n",
        "  x = np.linspace(x_i, x_f)\n",
        "  plt.plot(x, gaussiana(x, a, b, c))\n",
        "  plt.show()\n",
        "\n",
        "# generar gráfica\n",
        "dibujar_gaussiana(x_ini, x_fin, a, b, c)\n",
        "\n"
      ],
      "execution_count": null,
      "outputs": [
        {
          "output_type": "display_data",
          "data": {
            "image/png": "[encoded data removed]",
            "text/plain": [
              "<Figure size 432x288 with 1 Axes>"
            ]
          },
          "metadata": {
            "tags": []
          }
        }
      ]
    },
    {
      "cell_type": "markdown",
      "metadata": {
        "id": "vMx52yeJ12Mi"
      },
      "source": [
        "\n",
        "# primos\n",
        "algoritmo para calcular primos: criba de Eratóstenes:\n",
        "\n",
        "eliminar de la lista de los enteros todos los números de la forma $2*n$ con $n$ desde 2 hasta el número mayor de la lista de enteros.\n",
        "\n",
        "eliminar de la lista de los enteros todos los números de la forma $3*n$ con $n$ desde 2 hasta el número mayor de la lista de enteros.\n",
        "\n",
        "el tres ha salido como el primer número en la lista consecutivo a 2 que no habia sido eliminado de la lista.\n",
        "\n",
        "# Fibonacci\n",
        "\n",
        "La serie es \n",
        "0, 1, 1, 2, 3, 5, 8,...\n",
        "\n",
        "La relación con el \"Golden Ratio\" $\\varphi$ es\n",
        "\n",
        "$$\\varphi \\approx \\frac{F_{n+1}}{F_n}$$"
      ]
    },
    {
      "cell_type": "code",
      "metadata": {
        "id": "36vkRwKmyXuF",
        "colab": {
          "base_uri": "https://localhost:8080/",
          "height": 34
        },
        "outputId": "96bcdda5-6a7f-4e37-bd10-c0cad4eee9e1"
      },
      "source": [
        "x = [3.1, 4.6, 5.8, 6.8, 7.8]\n",
        "x = np.linspace(0,10,11)\n",
        "print(x)"
      ],
      "execution_count": null,
      "outputs": [
        {
          "output_type": "stream",
          "text": [
            "[ 0.  1.  2.  3.  4.  5.  6.  7.  8.  9. 10.]\n"
          ],
          "name": "stdout"
        }
      ]
    },
    {
      "cell_type": "code",
      "metadata": {
        "id": "hJIiOqxdHQwq",
        "colab": {
          "base_uri": "https://localhost:8080/",
          "height": 118
        },
        "outputId": "dfc9d820-e618-4460-b1b0-c43d22cfe140"
      },
      "source": [
        "x1 = np.linspace(0,3,4).reshape(1,4)\n",
        "x2 = np.linspace(0,3,4).reshape(4,1)\n",
        "print(x1)\n",
        "print(x2)\n",
        "np.dot(x1,x2)\n",
        "\n"
      ],
      "execution_count": null,
      "outputs": [
        {
          "output_type": "stream",
          "text": [
            "[[0. 1. 2. 3.]]\n",
            "[[0.]\n",
            " [1.]\n",
            " [2.]\n",
            " [3.]]\n"
          ],
          "name": "stdout"
        },
        {
          "output_type": "execute_result",
          "data": {
            "text/plain": [
              "array([[14.]])"
            ]
          },
          "metadata": {
            "tags": []
          },
          "execution_count": 39
        }
      ]
    },
    {
      "cell_type": "code",
      "metadata": {
        "id": "aRQYy05vIN9h",
        "colab": {
          "base_uri": "https://localhost:8080/",
          "height": 34
        },
        "outputId": "816c5cad-2d99-4869-a4df-d1de2575f0e4"
      },
      "source": [
        "import pandas as pd\n",
        "\n",
        "datos = pd.read_csv(\"drive/My Drive/Datos/Hw_data.dat\", sep= \" \")\n",
        "data = datos.to_numpy()\n"
      ],
      "execution_count": null,
      "outputs": [
        {
          "output_type": "execute_result",
          "data": {
            "text/plain": [
              "(999, 2)"
            ]
          },
          "metadata": {
            "tags": []
          },
          "execution_count": 48
        }
      ]
    },
    {
      "cell_type": "code",
      "metadata": {
        "id": "Ic7z5c5kLTOn"
      },
      "source": [
        ""
      ],
      "execution_count": null,
      "outputs": []
    }
  ]
}