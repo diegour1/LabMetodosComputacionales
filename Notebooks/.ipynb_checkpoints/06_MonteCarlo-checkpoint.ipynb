{
 "cells": [
  {
   "cell_type": "markdown",
   "metadata": {
    "id": "4cNLueXX7wLd"
   },
   "source": [
    "**Laboratorio de métodos computacionales**\n",
    "\n",
    "**Universidad de los Andes**\n",
    "\n",
    "**Profesor: Diego Alberto Castro Rodríguez**"
   ]
  },
  {
   "cell_type": "markdown",
   "metadata": {
    "id": "ecTUs88PeUNY"
   },
   "source": [
    "## Generación de números aleatorios, método GLC\n",
    "\n",
    "Un generador lineal congruencial (GLC) es un algoritmo que permite obtener una secuencia de números pseudoaleatorios calculados con una función lineal definida a trozos discontinua\n",
    "\n",
    "$$r = (ar_0+c)\\,\\text{mod}\\,M$$"
   ]
  },
  {
   "cell_type": "code",
   "execution_count": null,
   "metadata": {
    "colab": {
     "base_uri": "https://localhost:8080/",
     "height": 578
    },
    "id": "6Tj5eQ17eTx0",
    "outputId": "865d09f2-33bf-4afa-bc30-f260cd0f57da"
   },
   "outputs": [],
   "source": []
  },
  {
   "cell_type": "markdown",
   "metadata": {
    "id": "iXB5MNozNpng"
   },
   "source": [
    "## Estimación del valor de $\\pi$ madiante el método de Montecarlo\n",
    "\n",
    "El área de un cuadrado de lado $2r$ es:\n",
    "$$A_{\\text{cuadrado}} = (2r)(2r)= 4r^2\\,\\,\\,\\,\\rightarrow \\,\\,\\,\\,r^2 = \\frac{A_{\\text{cuadrado}}}{4}$$\n",
    "\n",
    "El área de un círculo es\n",
    "\n",
    "$$ A_{\\text{círculo}} = \\pi r^2\\,\\,\\,\\,\\rightarrow\\,\\,\\,\\,\\pi = \\frac{A_{\\text{círculo}}}{r^2} = \\frac{4A_{\\text{círculo}}}{A_{\\text{cuadrado}}}$$\n",
    "\n",
    "al realizar lanzamientos de, supongamos granos, sobre el cuadrado con una probabilidad idéntica para cada punto sobre el cuadrado, podemos aproximar el valor de $\\pi$ como:\n",
    "\n",
    "$$\\pi \\approx \\frac{4\\times({\\text{# de granos dentro del círculo}})}{\\text{# de granos dentro del cuadrado}}$$\n"
   ]
  },
  {
   "cell_type": "code",
   "execution_count": null,
   "metadata": {
    "colab": {
     "base_uri": "https://localhost:8080/",
     "height": 570
    },
    "id": "Ea2Qfe-ANlip",
    "outputId": "445d9a73-baa6-4253-9f6f-6a26f528d373"
   },
   "outputs": [],
   "source": []
  },
  {
   "cell_type": "markdown",
   "metadata": {
    "id": "II20Xx-WW4Op"
   },
   "source": [
    "## Simulación de lanzamiento de dados"
   ]
  },
  {
   "cell_type": "code",
   "execution_count": null,
   "metadata": {
    "colab": {
     "base_uri": "https://localhost:8080/",
     "height": 315
    },
    "id": "lho8vlfcW5Vm",
    "outputId": "520c71cf-743c-4fe9-a64a-2368d3e706ea"
   },
   "outputs": [],
   "source": []
  },
  {
   "cell_type": "markdown",
   "metadata": {
    "id": "VONLBIxzeRfK"
   },
   "source": [
    "## Integración de Montecarlo en una dimensión\n",
    "\n",
    "$$\\int^b_a\\! f(x)dx = \\lim_{n\\to\\infty}\\frac{b-a}{n}\\sum^n_{i=1}\\! f(u_i(b-a)+a)$$\n",
    "\n",
    "$$\\int^b_a\\! f(x)dx \\simeq \\frac{b-a}{n}\\sum^n_{i=1}\\! f(u_i(b-a)+a)$$\n",
    "\n",
    "Donde cada $u_i$ es un número aleatorio distinto en el intervalo $[0, 1]$\n",
    "\n"
   ]
  },
  {
   "cell_type": "code",
   "execution_count": null,
   "metadata": {
    "colab": {
     "base_uri": "https://localhost:8080/"
    },
    "id": "xXtvjWSYan7N",
    "outputId": "f363481b-c17b-4e5e-83a9-b84af79b6226"
   },
   "outputs": [],
   "source": []
  },
  {
   "cell_type": "markdown",
   "metadata": {
    "id": "X6qZO4CSwl0F"
   },
   "source": [
    "## Integración de Montecarlo en N dimensiones\n",
    "\n",
    "$$\\int^{b_1}_{a_1}\\cdots\\int^{b_2}_{a_2}\\! f(x_1,\\dots,x_n)dx_1\\dots dx_n \\simeq \\frac{(b_1-a_1)\\dots (b_n-a_n)}{N_1\\dots N_n}\\sum^{N_1}_{i_1=1}\\cdots \\sum^{N_n}_{i_n=1}\\! f(w_1,\\dots,w_j,\\dots,w_n)$$\n",
    "\n",
    "Donde $w_j = u_{ij}(b_j-a_j) + a_j$"
   ]
  },
  {
   "cell_type": "code",
   "execution_count": null,
   "metadata": {
    "colab": {
     "base_uri": "https://localhost:8080/"
    },
    "id": "fRpoMARJUodT",
    "outputId": "591d3559-5d20-4c0a-a42a-26829cfe15a7"
   },
   "outputs": [],
   "source": []
  },
  {
   "cell_type": "code",
   "execution_count": null,
   "metadata": {},
   "outputs": [],
   "source": []
  }
 ],
 "metadata": {
  "colab": {
   "collapsed_sections": [],
   "name": "05_MonteCarlo.ipynb",
   "provenance": []
  },
  "kernelspec": {
   "display_name": "Python 3",
   "language": "python",
   "name": "python3"
  },
  "language_info": {
   "codemirror_mode": {
    "name": "ipython",
    "version": 3
   },
   "file_extension": ".py",
   "mimetype": "text/x-python",
   "name": "python",
   "nbconvert_exporter": "python",
   "pygments_lexer": "ipython3",
   "version": "3.8.5"
  }
 },
 "nbformat": 4,
 "nbformat_minor": 1
}
