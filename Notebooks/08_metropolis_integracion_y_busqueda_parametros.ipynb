{
 "cells": [
  {
   "cell_type": "markdown",
   "metadata": {
    "id": "yxspwlhfEB75"
   },
   "source": [
    "**Laboratorio de métodos computacionales**\n",
    "\n",
    "**Universidad de los Andes**\n",
    "\n",
    "**Profesor: Diego Alberto Castro Rodríguez**"
   ]
  },
  {
   "cell_type": "markdown",
   "metadata": {
    "id": "arTh2Y80A6x5"
   },
   "source": [
    "## Integración con Metropolis-Hastings\n",
    "\n",
    "Dada una distribuón $g(x)$ y una función $f(x)$ se tiene que\n",
    "\n",
    "$$ \\frac{\\int g(x)f(x)dx}{\\int f(x)dx} = \\left< g(x) \\right> \\approx \\frac{1}{N} \\sum_{i=1}^{N} g(x_{i}) $$\n",
    "\n",
    "Si se tiene una integral que se pueda escribir en la forma $\\int g(x)f(x)dx$, se puede hacer uso del algoritmo de Metropolis-Hastings para encontrar el valor de dicha integral si se calcula o se sabe $\\int f(x)dx$ (que suele llamarse factor de normalización)\n",
    "\n",
    "$$I = \\int g(x)f(x)dx \\approx \\frac{\\int f(x)dx}{N}\\sum_{i = 1}^{N}g(x_{i})$$\n",
    "\n",
    "\n"
   ]
  },
  {
   "cell_type": "markdown",
   "metadata": {
    "id": "OZlrVSXxc9WI"
   },
   "source": [
    "**Ejemplo:** Use Metropolis-Hasting para estimar el valor de la integral\n",
    "\n",
    "$$I = \\int_{-\\infty}^{\\infty} \\int_{-\\infty}^{\\infty}  x\\frac{e^{-\\frac{1}{2}(-8x-8y+x^2y^2+x^2+y^2)}}{C}dxdy$$\n",
    "\n",
    "Donde la constante de normalización $C\\approx 20216.336$"
   ]
  },
  {
   "cell_type": "code",
   "execution_count": 1,
   "metadata": {
    "colab": {
     "base_uri": "https://localhost:8080/"
    },
    "id": "SxhIcDCIBjDv",
    "outputId": "f552a811-10d4-4919-f590-066e6567dbf1"
   },
   "outputs": [
    {
     "data": {
      "text/plain": [
       "(1.905832263002595, 0.010690429534252893)"
      ]
     },
     "execution_count": 1,
     "metadata": {},
     "output_type": "execute_result"
    }
   ],
   "source": [
    "#implementación para de la integración de Metropolis-hastings en n dimensiones\n",
    "import numpy as np\n",
    "\n",
    "def integracion_metropolis(p,g,dimension, steps):\n",
    "  v_gx = np.zeros(steps)\n",
    "  old_x = np.ones(dimension)\n",
    "  old_prob = p(old_x)\n",
    "\n",
    "  for i in range(steps):\n",
    "    new_x = np.random.normal(old_x, 0.5,dimension)\n",
    "    new_prob = p(new_x)\n",
    "    aceptacion = new_prob / old_prob\n",
    "    if aceptacion > np.random.rand():\n",
    "      old_x = new_x\n",
    "      old_prob = new_prob\n",
    "    v_gx[i] = g(old_x)\n",
    "\n",
    "  return np.mean(v_gx), 2*np.std(v_gx)/np.sqrt(steps)\n",
    "\n",
    "def g(x):\n",
    "  return x[0]\n",
    "\n",
    "def p(x):\n",
    "  xp = x**2\n",
    "  return np.exp(-(-8*np.sum(x)+np.prod(xp) + np.sum(xp))*0.5)\n",
    "\n",
    "integracion_metropolis(p,g,2,100000)"
   ]
  },
  {
   "cell_type": "markdown",
   "metadata": {
    "id": "8z0llpGuA5xq"
   },
   "source": [
    "## Estimación de parámetros con Metropolis-Hastings\n",
    "\n",
    "Suponga que tiene datos $D (t_i)$,  (ya sea un escalar o un vector) en puntos discretos $t_i$ y un modelo propuesto, que produce una serie $y (t | \\theta)$, donde $\\theta$ representa un conjunto de parámetros libres que cambia la función propuesta.\n",
    "\n",
    "Lo primero que debe hacer es elegir una función de error. El más común es la suma de errores cuadrados dada por\n",
    "\n",
    "$$\\chi ^ 2 = \\sum_i \\frac {(D (t_i) -y (t_i | \\theta)) ^ 2} {2 \\sigma ^ 2}$$\n",
    "\n",
    "donde $\\sigma$ es una estimación del error de los datos. Usualmente, puede utilizar la incertidumbre experimental o simplemente adivinar.\n",
    "\n",
    "Lo que se desea es que la probabilidad $P$ sea máxima cuando $\\chi^2$ sea mínimo. Esto lo podemos plasmar por ejemplo así\n",
    "\n",
    "$$\n",
    "P(D | \\theta) = e^{- \\chi ^ 2}\n",
    "$$\n",
    "\n",
    "(Esto puede generar números que estan por fuera del rango de presición de python, si esto ocurre puede remplasar la función exponencial por otra que no cause este problema, o asegurarse de que sus valores iniciales para los parámetros no esten muy lejos de los valores buscados)"
   ]
  },
  {
   "cell_type": "code",
   "execution_count": 23,
   "metadata": {
    "id": "EG11ivoaVwt1"
   },
   "outputs": [],
   "source": [
    "import numpy as np\n",
    "\n",
    "def metropolis_fit(p,t,D,model,theta,steps):\n",
    "  dimension = len(theta)\n",
    "  muestras = np.zeros([dimension,steps])\n",
    "  probabilidad = np.zeros([dimension,steps])\n",
    "  old_theta = theta\n",
    "  old_prob = p(t,D,model, old_theta)\n",
    "\n",
    "  for i in range(steps):\n",
    "    new_theta = old_theta + np.random.normal(0, 0.5, dimension)\n",
    "    new_prob = p(t,D,model, new_theta)\n",
    "    aceptacion = new_prob / old_prob\n",
    "\n",
    "    if aceptacion > np.random.rand():\n",
    "      old_theta = new_theta\n",
    "      old_prob = new_prob\n",
    "      \n",
    "    muestras[:,i] = old_theta\n",
    "    probabilidad[:,i] = old_prob\n",
    "\n",
    "  return muestras, probabilidad"
   ]
  },
  {
   "cell_type": "markdown",
   "metadata": {
    "id": "0Qohb2zxFYvb"
   },
   "source": [
    "**Ejemplo:** Ajustar con un modelo lineal los datos generados con `t = np.linspace(0,10,num=11)` y con `D = 0.1*t + 7`. Ignorar los primeros 1000 samples.\n",
    "\n",
    "\n"
   ]
  },
  {
   "cell_type": "code",
   "execution_count": 32,
   "metadata": {
    "id": "OqORG0Q8FQQt"
   },
   "outputs": [],
   "source": [
    "def model(t,c):\n",
    "  return c[0]*t + c[1]\n",
    "\n",
    "def p(t,D,model, theta):\n",
    "  sigma = 1\n",
    "  chi2 = np.sum((D - model(t,theta))**2)/(2*sigma**2)\n",
    "  return np.exp(-chi2)\n",
    "\n",
    "def calcular_parametro(samples,inicio,dimension):\n",
    "  return np.mean(samples[dimension,ignora:])\n",
    "\n",
    "def mostrar_histograma(samples,inicio,dimension):\n",
    "  print('c{}:'.format(dimension),calcular_parametro(samples,inicio,dimension))\n",
    "  plt.hist(samples[dimension,ignora:], bins=50)\n",
    "  plt.show()\n",
    "\n",
    "def mostrar_ajuste(t,D,samples,inicio):\n",
    "  c0 = calcular_parametro(samples,inicio,0)\n",
    "  c1 = calcular_parametro(samples,inicio,1)\n",
    "  print(c0,c1)\n",
    "  y = c0*t + c1\n",
    "  plt.plot(t,D,'o')\n",
    "  plt.plot(t,y,c='r')\n",
    "  plt.show()\n",
    "\n",
    "t = np.linspace(0,10,num=11)\n",
    "D = 0.1*t + 7 + np.random.normal(0, 0.05, 11)\n",
    "\n",
    "dimensiones = 2\n",
    "steps = 100000\n",
    "theta = np.ones(dimensiones)\n",
    "samples, probabilidad = metropolis_fit(p,t,D,model,theta,steps)"
   ]
  },
  {
   "cell_type": "code",
   "execution_count": 33,
   "metadata": {
    "colab": {
     "base_uri": "https://localhost:8080/",
     "height": 282
    },
    "id": "4Sko6Z_uXWH-",
    "outputId": "3731e398-8edb-4aec-ff55-923e2482be3f"
   },
   "outputs": [
    {
     "name": "stdout",
     "output_type": "stream",
     "text": [
      "c0: 0.10748216812301825\n"
     ]
    },
    {
     "data": {
      "image/png": "[encoded data removed]",
      "text/plain": [
       "<Figure size 432x288 with 1 Axes>"
      ]
     },
     "metadata": {},
     "output_type": "display_data"
    }
   ],
   "source": [
    "import matplotlib.pyplot as plt\n",
    "plt.style.use('dark_background')\n",
    "\n",
    "dimension = 0\n",
    "ignora = 1000\n",
    "mostrar_histograma(samples,ignora,dimension)"
   ]
  },
  {
   "cell_type": "code",
   "execution_count": 34,
   "metadata": {
    "colab": {
     "base_uri": "https://localhost:8080/",
     "height": 282
    },
    "id": "xe6D-e3tYGoR",
    "outputId": "38f53b8a-01b2-48fb-beb1-474713db657a"
   },
   "outputs": [
    {
     "name": "stdout",
     "output_type": "stream",
     "text": [
      "c1: 6.9749893634102635\n"
     ]
    },
    {
     "data": {
      "image/png": "[encoded data removed]",
      "text/plain": [
       "<Figure size 432x288 with 1 Axes>"
      ]
     },
     "metadata": {},
     "output_type": "display_data"
    }
   ],
   "source": [
    "dimension = 1\n",
    "ignora = 1000\n",
    "mostrar_histograma(samples,ignora,dimension)"
   ]
  },
  {
   "cell_type": "code",
   "execution_count": 35,
   "metadata": {
    "colab": {
     "base_uri": "https://localhost:8080/",
     "height": 282
    },
    "id": "rspTe9QUJN9_",
    "outputId": "9750ce07-2b2f-4ee7-d3bd-84dc3b6cfe31"
   },
   "outputs": [
    {
     "name": "stdout",
     "output_type": "stream",
     "text": [
      "0.10748216812301825 6.9749893634102635\n"
     ]
    },
    {
     "data": {
      "image/png": "[encoded data removed]",
      "text/plain": [
       "<Figure size 432x288 with 1 Axes>"
      ]
     },
     "metadata": {},
     "output_type": "display_data"
    }
   ],
   "source": [
    "mostrar_ajuste(t,D,samples,ignora)"
   ]
  },
  {
   "cell_type": "code",
   "execution_count": null,
   "metadata": {},
   "outputs": [],
   "source": []
  }
 ],
 "metadata": {
  "colab": {
   "collapsed_sections": [],
   "name": "07_metropolis_integracion_y_busqueda_parametros.ipynb",
   "provenance": []
  },
  "kernelspec": {
   "display_name": "Python 3",
   "language": "python",
   "name": "python3"
  },
  "language_info": {
   "codemirror_mode": {
    "name": "ipython",
    "version": 3
   },
   "file_extension": ".py",
   "mimetype": "text/x-python",
   "name": "python",
   "nbconvert_exporter": "python",
   "pygments_lexer": "ipython3",
   "version": "3.8.5"
  }
 },
 "nbformat": 4,
 "nbformat_minor": 1
}
